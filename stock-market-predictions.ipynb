{
 "cells": [
  {
   "cell_type": "markdown",
   "id": "13492baf",
   "metadata": {},
   "source": [
    "# Step1: Importing the libraries"
   ]
  },
  {
   "cell_type": "code",
   "execution_count": null,
   "id": "89e3d669",
   "metadata": {},
   "outputs": [],
   "source": [
    "# Import necessary libraries\n",
    "import pandas as pd\n",
    "import seaborn as sns\n",
    "import numpy as np\n",
    "import matplotlib.pyplot as plt\n",
    "from sklearn.model_selection import TimeSeriesSplit\n",
    "from sklearn.metrics import classification_report, confusion_matrix\n",
    "from xgboost import XGBClassifier\n",
    "from matplotlib import dates\n",
    "from datetime import datetime\n",
    "\n",
    "import warnings\n",
    "warnings.filterwarnings(\"ignore\")"
   ]
  },
  {
   "cell_type": "code",
   "execution_count": null,
   "id": "c6cf3fb1",
   "metadata": {},
   "outputs": [],
   "source": [
    "# load the data\n",
    "data = pd.read_csv('15 Years Stock Data of NVDA AAPL MSFT GOOGL and AMZN.csv', parse_dates=['Date'])\n",
    "data.sort_values('Date', inplace=True, ascending=True)\n",
    "data.set_index('Date', inplace=True)\n",
    "data"
   ]
  },
  {
   "cell_type": "code",
   "execution_count": null,
   "id": "7fa570b9",
   "metadata": {},
   "outputs": [],
   "source": [
    "data.info()"
   ]
  },
  {
   "cell_type": "code",
   "execution_count": null,
   "id": "3beea8c1",
   "metadata": {},
   "outputs": [],
   "source": [
    "data.isnull().sum()"
   ]
  },
  {
   "cell_type": "code",
   "execution_count": null,
   "id": "c8a2fd2a",
   "metadata": {},
   "outputs": [],
   "source": [
    "# Calculate the daily return of each stock\n",
    "data['Return_AAPL'] = data['Close_AAPL'].pct_change()\n",
    "data['Return_AMZN'] = data['Close_AMZN'].pct_change()\n",
    "data['Return_GOOGL'] = data['Close_GOOGL'].pct_change()\n",
    "data['Return_MSFT'] = data['Close_MSFT'].pct_change()\n",
    "data['Return_NVDA'] = data['Close_NVDA'].pct_change()\n",
    "data"
   ]
  },
  {
   "cell_type": "code",
   "execution_count": null,
   "id": "bb469961",
   "metadata": {},
   "outputs": [],
   "source": [
    "# Calculating the average closing price over the last n days\n",
    "data['SMA_10_AAPL'] = data['Close_AAPL'].rolling(window=10).mean()\n",
    "data['SMA_50_AAPL'] = data['Close_AAPL'].rolling(window=50).mean()\n",
    "data['SMA_10_AMZN'] = data['Close_AMZN'].rolling(window=10).mean()\n",
    "data['SMA_50_AMZN'] = data['Close_AMZN'].rolling(window=50).mean()\n",
    "data['SMA_10_GOOGL'] = data['Close_GOOGL'].rolling(window=10).mean()\n",
    "data['SMA_50_GOOGL'] = data['Close_GOOGL'].rolling(window=50).mean()\n",
    "data['SMA_10_MSFT'] = data['Close_MSFT'].rolling(window=10).mean()\n",
    "data['SMA_50_MSFT'] = data['Close_MSFT'].rolling(window=50).mean()\n",
    "data['SMA_10_NVDA'] = data['Close_NVDA'].rolling(window=10).mean()\n",
    "data['SMA_50_NVDA'] = data['Close_NVDA'].rolling(window=50).mean()"
   ]
  }
 ],
 "metadata": {
  "kernelspec": {
   "display_name": ".venv",
   "language": "python",
   "name": "python3"
  },
  "language_info": {
   "codemirror_mode": {
    "name": "ipython",
    "version": 3
   },
   "file_extension": ".py",
   "mimetype": "text/x-python",
   "name": "python",
   "nbconvert_exporter": "python",
   "pygments_lexer": "ipython3",
   "version": "3.11.5"
  }
 },
 "nbformat": 4,
 "nbformat_minor": 5
}
